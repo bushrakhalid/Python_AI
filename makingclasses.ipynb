{
 "cells": [
  {
   "cell_type": "code",
   "execution_count": 4,
   "metadata": {},
   "outputs": [
    {
     "name": "stdout",
     "output_type": "stream",
     "text": [
      "\n",
      "FJWU\n",
      "student name: fareha\n",
      "roll no:  BSE029\n",
      "\n"
     ]
    }
   ],
   "source": [
    "\n",
    "name= \"fareha\"\n",
    "roll_no=\" BSE029\"\n",
    "\n",
    "var= \"\"\"\n",
    "FJWU\n",
    "student name: {}\n",
    "roll no: {}\n",
    "\"\"\".format(name, roll_no)\n",
    "print(var)"
   ]
  },
  {
   "cell_type": "code",
   "execution_count": null,
   "metadata": {},
   "outputs": [],
   "source": []
  }
 ],
 "metadata": {
  "kernelspec": {
   "display_name": "Python 3",
   "language": "python",
   "name": "python3"
  },
  "language_info": {
   "codemirror_mode": {
    "name": "ipython",
    "version": 3
   },
   "file_extension": ".py",
   "mimetype": "text/x-python",
   "name": "python",
   "nbconvert_exporter": "python",
   "pygments_lexer": "ipython3",
   "version": "3.7.4"
  }
 },
 "nbformat": 4,
 "nbformat_minor": 2
}
